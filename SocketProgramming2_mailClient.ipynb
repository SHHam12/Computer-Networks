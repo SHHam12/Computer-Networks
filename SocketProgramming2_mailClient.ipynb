{
 "cells": [
  {
   "cell_type": "markdown",
   "metadata": {},
   "source": [
    "# Scoket programming II : create a simple mail client"
   ]
  },
  {
   "cell_type": "markdown",
   "metadata": {},
   "source": [
    " - We want to create a simple mail client that sends email to any recipient. Your client will need to establish a TCP connection with a mail server (e.g., a Google mail server), dialogue with the mail server using the SMTP protocol, send an email message to a recipient (e.g., your friend) via the mail server, and finally close the TCP connection with the mail server.\n"
   ]
  },
  {
   "cell_type": "code",
   "execution_count": 2,
   "metadata": {},
   "outputs": [
    {
     "name": "stdout",
     "output_type": "stream",
     "text": [
      "220 smtp.gmail.com ESMTP n58sm6154608qta.79 - gsmtp\r\n",
      "\n",
      "250 smtp.gmail.com at your service\r\n",
      "\n"
     ]
    }
   ],
   "source": [
    "\n",
    "from socket import *\n",
    "import ssl\n",
    "\n",
    "\n",
    "# Choose a mail server (e.g. Google mail server) and call it mailserver\n",
    "mailserver = 'smtp.gmail.com'\n",
    "\n",
    "# Create socket called clientSocket and establish a TCP connection with mailserver\n",
    "clientSocket = socket(AF_INET, SOCK_STREAM)\n",
    "# wrap the underlying socket in an SSL context\n",
    "clientSocketSSL = ssl.wrap_socket(clientSocket)\n",
    "\n",
    "\n",
    "# Port number may change according to the mail server\n",
    "clientSocketSSL.connect((mailserver, 465)) #Connect on port 587 if you're using TLS.\n",
    "recv = clientSocketSSL.recv(1024).decode()\n",
    "print(recv)\n",
    "if recv[:3] != '220':\n",
    "\tprint('220 reply not received from server.')\n",
    "\n",
    "# Send HELO command and print server response.\n",
    "heloCommand = 'HELO gmail.com\\r\\n'\n",
    "clientSocketSSL.send(heloCommand.encode())\n",
    "recv1 = clientSocketSSL.recv(1024).decode()\n",
    "print(recv1)\n",
    "if recv1[:3] != '250':\n",
    "\tprint('250 reply not received from server.')\n",
    "\t\n"
   ]
  },
  {
   "cell_type": "code",
   "execution_count": null,
   "metadata": {
    "collapsed": true
   },
   "outputs": [],
   "source": []
  }
 ],
 "metadata": {
  "kernelspec": {
   "display_name": "Python 3",
   "language": "python",
   "name": "python3"
  },
  "language_info": {
   "codemirror_mode": {
    "name": "ipython",
    "version": 3
   },
   "file_extension": ".py",
   "mimetype": "text/x-python",
   "name": "python",
   "nbconvert_exporter": "python",
   "pygments_lexer": "ipython3",
   "version": "3.6.2"
  }
 },
 "nbformat": 4,
 "nbformat_minor": 2
}
