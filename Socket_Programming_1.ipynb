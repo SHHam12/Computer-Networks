{
 "cells": [
  {
   "cell_type": "markdown",
   "metadata": {
    "slideshow": {
     "slide_type": "notes"
    }
   },
   "source": [
    "#   first program "
   ]
  },
  {
   "cell_type": "markdown",
   "metadata": {
    "slideshow": {
     "slide_type": "notes"
    }
   },
   "source": [
    "# Socket Programming in Python\n",
    "\n",
    "-  a way of connecting two nodes on a network to communicate with each other.\n",
    "\n"
   ]
  },
  {
   "cell_type": "code",
   "execution_count": null,
   "metadata": {
    "slideshow": {
     "slide_type": "slide"
    }
   },
   "outputs": [],
   "source": [
    "\n",
    "# An example script to connect to Google using socket\n",
    "# programming in Python\n",
    "import socket # for socket\n",
    "import sys \n",
    " \n",
    "try:\n",
    "    s = socket.socket(socket.AF_INET, socket.SOCK_STREAM)\n",
    "    print(\"Socket successfully created\")\n",
    "except socket.error as err:\n",
    "    print(\"socket creation failed with error %s\"%(err))\n",
    " \n",
    "# default port for socket\n",
    "port = 80\n",
    " \n",
    "try:\n",
    "    host_ip = socket.gethostbyname('www.google.com')\n",
    "except socket.gaierror: # getaddrinfo\n",
    " \n",
    "    # this means could not resolve the host\n",
    "    print(\"there was an error resolving the host\")\n",
    "    sys.exit()\n",
    " \n",
    "# connecting to the server\n",
    "s.connect((host_ip, port))\n",
    " \n",
    "print(\"the socket has successfully connected to google \\\n",
    "on port == %s\" %(host_ip))"
   ]
  },
  {
   "cell_type": "markdown",
   "metadata": {
    "slideshow": {
     "slide_type": "notes"
    }
   },
   "source": [
    "- First of all we made a socket.\n",
    "- Then we resolved google’s ip and lastly we connected to google.\n",
    "- Now we need to know how can we send some data through a socket.\n",
    "- For sending data the socket library has a send all function. This function allows you to send data to a server to which the socket is connected and server can also send data to the client using this function."
   ]
  },
  {
   "cell_type": "code",
   "execution_count": 2,
   "metadata": {
    "slideshow": {
     "slide_type": "slide"
    }
   },
   "outputs": [],
   "source": [
    "?socket.socket"
   ]
  },
  {
   "cell_type": "markdown",
   "metadata": {
    "slideshow": {
     "slide_type": "notes"
    }
   },
   "source": [
    "# A simple server-client program :\n",
    "- Server side :\n",
    "- A server has a bind() method which binds it to a specific ip and port so that it can listen to incoming requests on that ip and port.\n",
    "- A server has a listen() method which puts the server into listen mode. This allows the server to listen to incoming connections.\n",
    "- And last a server has an accept() and close() method. The accept method initiates a connection with the client and the close method closes the connection with the client."
   ]
  },
  {
   "cell_type": "code",
   "execution_count": null,
   "metadata": {},
   "outputs": [],
   "source": [
    "# first of all import the socket library\n",
    "import socket               \n",
    " \n",
    "# next create a socket object\n",
    "s = socket.socket()         \n",
    "print(\"Socket successfully created\")\n",
    " \n",
    "# reserve a port on your computer in our\n",
    "# case it is 12345 but it can be anything\n",
    "port = 12345               \n",
    " \n",
    "# Next bind to the port\n",
    "# we have not typed any ip in the ip field\n",
    "# instead we have inputted an empty string\n",
    "# this makes the server listen to requests \n",
    "# coming from other computers on the network\n",
    "s.bind(('', port))        \n",
    "print(\"socket binded to %s\" %(port))\n",
    " \n",
    "# put the socket into listening mode\n",
    "s.listen(5)     \n",
    "print(\"socket is listening\") \n",
    "\n",
    "\n",
    "# a forever loop until we interrupt it or \n",
    "# an error occurs\n",
    "while True:\n",
    " \n",
    "   # Establish connection with client.\n",
    "   c, addr = s.accept()  #(clientsocket, address)   \n",
    "   print('Got connection from', addr)\n",
    " \n",
    "   # send a thank you message to the client. \n",
    "   message = 'Thank you for connecting '\n",
    "   c.send(message.encode())\n",
    " \n",
    "   # Close the connection with the client\n",
    "   c.close()\n",
    " \n"
   ]
  },
  {
   "cell_type": "markdown",
   "metadata": {},
   "source": [
    "- First of all we import socket which is necessary.\n",
    "- Then we made a socket object and reserved a port on our pc.\n",
    "- After that we binded our server to the specified port. Passing an empty string means that the server can listen to incoming connections from other computers as well. If we would have passed 127.0.0.1 then it would have listened to only those calls made within the local computer.\n",
    "- After that we put the server into listen mode.5 here means that 5 connections are kept waiting if the server is busy and if a 6th socket trys to connect then the connection is refused.\n",
    "\n",
    "- At last we make a while loop and start to accept all incoming connections and close those connections after a thank you message to all connected sockets.\n"
   ]
  },
  {
   "cell_type": "markdown",
   "metadata": {},
   "source": [
    "# Client :\n",
    "- Now we need something with which a server can interact. We could tenet to the server like this just to know that our server is working. Type these commands in the terminal:"
   ]
  },
  {
   "cell_type": "markdown",
   "metadata": {
    "collapsed": true
   },
   "source": [
    "# $telnet localhost 12345"
   ]
  },
  {
   "cell_type": "code",
   "execution_count": null,
   "metadata": {},
   "outputs": [],
   "source": []
  }
 ],
 "metadata": {
  "celltoolbar": "Slideshow",
  "kernelspec": {
   "display_name": "Python 3",
   "language": "python",
   "name": "python3"
  },
  "language_info": {
   "codemirror_mode": {
    "name": "ipython",
    "version": 3
   },
   "file_extension": ".py",
   "mimetype": "text/x-python",
   "name": "python",
   "nbconvert_exporter": "python",
   "pygments_lexer": "ipython3",
   "version": "3.6.2"
  }
 },
 "nbformat": 4,
 "nbformat_minor": 2
}
