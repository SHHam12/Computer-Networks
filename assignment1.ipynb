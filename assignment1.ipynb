{
 "cells": [
  {
   "cell_type": "code",
   "execution_count": null,
   "metadata": {},
   "outputs": [
    {
     "name": "stdout",
     "output_type": "stream",
     "text": [
      "The server is ready to receive\n",
      "b'GET /test.txt\\r\\n'\n",
      "+++Hello Congratulation. CSE310 assignment is done with success+++\n",
      "The server is ready to receive\n",
      "b'GET /test1.txt\\r\\n'\n",
      "404 Not Found\n",
      "The server is ready to receive\n"
     ]
    }
   ],
   "source": [
    "# server program\n",
    "# Import socket module\n",
    "from socket import * \n",
    "import sys # In order to terminate the program\n",
    "\n",
    "# Create a TCP server socket\n",
    "#(AF_INET is used for IPv4 protocols)\n",
    "#(SOCK_STREAM is used for TCP)\n",
    "\n",
    "s = socket(AF_INET, SOCK_STREAM)\n",
    "\n",
    "# Assign a port number\n",
    "port = 1190\n",
    "\n",
    "\n",
    "# Bind the socket to server address and server port\n",
    "s.bind(('',port))\n",
    "\n",
    "\n",
    "# Listen to at most 1 connection at a time\n",
    "s.listen(1)\n",
    "\n",
    "\n",
    "# Server should be up and running and listening to the incoming connections\n",
    "\n",
    "while True:\n",
    "\tprint('The server is ready to receive')\n",
    "\n",
    "\t# Set up a new connection from the client\n",
    "\tconnectionSocket,addr = s.accept()\n",
    "\n",
    "\n",
    "\t\t# Receives the request message from the client\n",
    "\ttry:\n",
    "\t\tmessage = connectionSocket.recv(1024)\n",
    "\t\tprint(message)\n",
    "\n",
    "\t\t# Extract the path of the requested object from the message\n",
    "\t\t# The path is the second part of HTTP header, identified by [1]\n",
    "\t\tfilename = message.split()[1]\n",
    "\t\t# Because the extracted path of the HTTP request includes \n",
    "\t\t# a character '\\', we read the path from the second character \n",
    "\t\t# Open the file\n",
    "\t\tf = open(filename[1:])\n",
    "\n",
    "\t\t# Store the entire contenet of the requested file in a temporary buffer\n",
    "\t\toutputdata = f.read()\n",
    "\t\t#DEBUG to check output data\n",
    "\t\tprint(outputdata)\n",
    "        \n",
    "\t\t# Send the HTTP response header line to the connection socket\n",
    "\t\tconnectionSocket.send(\"HTTP/1.1 200 OK\\r\\n\\r\\n\".encode()) \n",
    " \n",
    "\t\t# Send the content of the requested file to the connection socket\n",
    "\t\tfor i in range(0, len(outputdata)):  \n",
    "\t\t\tconnectionSocket.send(outputdata[i].encode())\n",
    "\t\tconnectionSocket.send(\"\\r\\n\".encode()) \n",
    "\t\t\n",
    "\t\t# Close the client connection socket\n",
    "\t\tconnectionSocket.close()\n",
    "\texcept IOError:\n",
    "\t\t# Send response message for the file not found.\n",
    "\t\tprint(\"404 Not Found\")\n",
    "\t\tconnectionSocket.send(\"HTTP/1.1 404 Not Found\\r\\n\".encode())\n",
    "\t\tpass\n",
    "\n",
    "\t\n",
    "serverSocket.close()  \n",
    "sys.exit()#Terminate the program after sending the corresponding data"
   ]
  },
  {
   "cell_type": "code",
   "execution_count": null,
   "metadata": {},
   "outputs": [],
   "source": []
  }
 ],
 "metadata": {
  "kernelspec": {
   "display_name": "Python 3",
   "language": "python",
   "name": "python3"
  },
  "language_info": {
   "codemirror_mode": {
    "name": "ipython",
    "version": 3
   },
   "file_extension": ".py",
   "mimetype": "text/x-python",
   "name": "python",
   "nbconvert_exporter": "python",
   "pygments_lexer": "ipython3",
   "version": "3.6.2"
  }
 },
 "nbformat": 4,
 "nbformat_minor": 2
}
