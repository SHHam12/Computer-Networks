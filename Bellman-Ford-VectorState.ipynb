{
 "cells": [
  {
   "cell_type": "code",
   "execution_count": 1,
   "metadata": {},
   "outputs": [],
   "source": [
    "\"\"\"\n",
    "Implement vector state routing algorithm to find shortest path from node x to y\n",
    "Use Belman Ford algorithm to implement vector state algorithm\n",
    "Since we do not have negative weight, do not conside about hegative weight cycle\n",
    "\"\"\"\n",
    "\n",
    "# Initialize Graph\n",
    "# {node: weight}\n",
    "graph = {\n",
    "    'x': { 'a' : 9, 'b' : 15, 'c' : 14},  \n",
    "    'a': { 'x' : 9, 'd' : 24},                 \n",
    "    'b': { 'x' : 15, 'c' : 5, 'e' : 20, 'y' : 44},  \n",
    "    'c': { 'x' : 14, 'b' : 5, 'd' : 18, 'e' : 30},        \n",
    "    'd': { 'a' : 24, 'c' : 18, 'e' : 2, 'f' : 6, 'y' : 19},         \n",
    "    'e': { 'b' : 20, 'c' : 30, 'd' : 2, 'f' : 11, 'y' : 16},                 \n",
    "    'f': { 'd' : 6, 'e' : 11, 'y' : 6},           \n",
    "    'y': { 'b' : 44, 'd' : 19, 'e' : 16, 'f' : 6}\n",
    "}\n",
    "\n",
    "def bellman_ford(graph, source):\n",
    "    # Step 1: Prepare the distance for each node\n",
    "    distance, predecessor = dict(), dict()\n",
    "    \n",
    "    for node in graph:\n",
    "        distance[node], predecessor[node] = float('inf'), None\n",
    "    distance[source] = 0\n",
    "\n",
    "    # Step 2: Relax the edges\n",
    "    for _ in range(len(graph) - 1):\n",
    "        for node in graph:\n",
    "            for neighbour in graph[node]:\n",
    "                # If the distance between the node and the neighbour is lower than the current, store it\n",
    "                if distance[neighbour] > distance[node] + graph[node][neighbour]:\n",
    "                    distance[neighbour], predecessor[neighbour] = distance[node] + graph[node][neighbour], node\n",
    "  \n",
    "    return distance, predecessor\n",
    "\n",
    "def findPath(graph, source, target):\n",
    "    distance, predecessor = bellman_ford(graph, source)\n",
    "    current = target\n",
    "    path = [] \n",
    "    while current != None:\n",
    "       path.insert(0,current)\n",
    "       current = predecessor[current]\n",
    "    return path\n"
   ]
  },
  {
   "cell_type": "code",
   "execution_count": 2,
   "metadata": {},
   "outputs": [],
   "source": [
    "distance, predecessor = bellman_ford(graph, source='x')"
   ]
  },
  {
   "cell_type": "code",
   "execution_count": 3,
   "metadata": {},
   "outputs": [
    {
     "data": {
      "text/plain": [
       "{'a': 'x',\n",
       " 'b': 'x',\n",
       " 'c': 'x',\n",
       " 'd': 'c',\n",
       " 'e': 'd',\n",
       " 'f': 'd',\n",
       " 'x': None,\n",
       " 'y': 'f'}"
      ]
     },
     "execution_count": 3,
     "metadata": {},
     "output_type": "execute_result"
    }
   ],
   "source": [
    "predecessor"
   ]
  },
  {
   "cell_type": "code",
   "execution_count": 4,
   "metadata": {},
   "outputs": [
    {
     "data": {
      "text/plain": [
       "{'a': 9, 'b': 15, 'c': 14, 'd': 32, 'e': 34, 'f': 38, 'x': 0, 'y': 44}"
      ]
     },
     "execution_count": 4,
     "metadata": {},
     "output_type": "execute_result"
    }
   ],
   "source": [
    "distance"
   ]
  },
  {
   "cell_type": "code",
   "execution_count": 5,
   "metadata": {},
   "outputs": [
    {
     "name": "stdout",
     "output_type": "stream",
     "text": [
      "the minimun weight path x to y is 44\n"
     ]
    }
   ],
   "source": [
    "print(\"the minimun weight path x to y is \" + str(distance['y']))"
   ]
  },
  {
   "cell_type": "code",
   "execution_count": 6,
   "metadata": {},
   "outputs": [
    {
     "data": {
      "text/plain": [
       "['x', 'c', 'd', 'f', 'y']"
      ]
     },
     "execution_count": 6,
     "metadata": {},
     "output_type": "execute_result"
    }
   ],
   "source": [
    "findPath(graph, 'x', 'y')"
   ]
  },
  {
   "cell_type": "code",
   "execution_count": null,
   "metadata": {},
   "outputs": [],
   "source": []
  }
 ],
 "metadata": {
  "kernelspec": {
   "display_name": "Python 3",
   "language": "python",
   "name": "python3"
  },
  "language_info": {
   "codemirror_mode": {
    "name": "ipython",
    "version": 3
   },
   "file_extension": ".py",
   "mimetype": "text/x-python",
   "name": "python",
   "nbconvert_exporter": "python",
   "pygments_lexer": "ipython3",
   "version": "3.6.5"
  }
 },
 "nbformat": 4,
 "nbformat_minor": 2
}
